{
 "cells": [
  {
   "cell_type": "code",
   "execution_count": 2,
   "metadata": {},
   "outputs": [],
   "source": [
    "# Import necessary libraries\n",
    "import pandas as pd\n",
    "import numpy as np\n",
    "from sklearn.preprocessing import MinMaxScaler\n",
    "from sklearn.metrics.pairwise import cosine_similarity"
   ]
  },
  {
   "cell_type": "code",
   "execution_count": 3,
   "metadata": {},
   "outputs": [],
   "source": [
    "# Load and Merge Datasets\n",
    "\n",
    "\n",
    "# Load datasets\n",
    "customers = pd.read_csv(\"Customers.csv\")\n",
    "products = pd.read_csv(\"Products.csv\")\n",
    "transactions = pd.read_csv(\"Transactions.csv\")"
   ]
  },
  {
   "cell_type": "code",
   "execution_count": 4,
   "metadata": {},
   "outputs": [],
   "source": [
    "# Merge datasets for analysis\n",
    "merged_data = transactions.merge(customers, on=\"CustomerID\").merge(products, on=\"ProductID\")"
   ]
  },
  {
   "cell_type": "code",
   "execution_count": 5,
   "metadata": {},
   "outputs": [],
   "source": [
    "# Feature Engineering\n",
    "\n",
    "\n",
    "# Aggregating transactional data for each customer\n",
    "customer_features = merged_data.groupby('CustomerID').agg({\n",
    "    'Quantity': 'sum',                     # Total quantity purchased\n",
    "    'TotalValue': 'sum',                   # Total revenue generated\n",
    "    'ProductID': 'nunique',                # Number of unique products purchased\n",
    "    'Category': 'nunique'                  # Number of unique product categories\n",
    "}).reset_index()"
   ]
  },
  {
   "cell_type": "code",
   "execution_count": 6,
   "metadata": {},
   "outputs": [],
   "source": [
    "# Add profile features from the customers dataset\n",
    "customer_profiles = customers[['CustomerID', 'Region']]\n",
    "customer_features = customer_features.merge(customer_profiles, on=\"CustomerID\", how=\"left\")"
   ]
  },
  {
   "cell_type": "code",
   "execution_count": 7,
   "metadata": {},
   "outputs": [],
   "source": [
    "# One-hot encode the 'Region' feature\n",
    "customer_features = pd.get_dummies(customer_features, columns=['Region'])\n"
   ]
  },
  {
   "cell_type": "code",
   "execution_count": 8,
   "metadata": {},
   "outputs": [],
   "source": [
    "# Normalize the Data\n",
    "\n",
    "\n",
    "# Normalize numerical columns (Quantity, TotalValue, etc.)\n",
    "scaler = MinMaxScaler()\n",
    "numerical_columns = ['Quantity', 'TotalValue', 'ProductID', 'Category']\n",
    "customer_features[numerical_columns] = scaler.fit_transform(customer_features[numerical_columns])"
   ]
  },
  {
   "cell_type": "code",
   "execution_count": 9,
   "metadata": {},
   "outputs": [],
   "source": [
    "# Calculate Similarity Scores\n",
    "\n",
    "\n",
    "# Compute the cosine similarity between customers\n",
    "customer_ids = customer_features['CustomerID']\n",
    "feature_matrix = customer_features.drop(columns=['CustomerID']).values\n",
    "similarity_matrix = cosine_similarity(feature_matrix)"
   ]
  },
  {
   "cell_type": "code",
   "execution_count": 10,
   "metadata": {},
   "outputs": [],
   "source": [
    "# Generate Lookalike Recommendations\n",
    "\n",
    "\n",
    "# Function to get top 3 similar customers\n",
    "def get_top_3_similar(customers_matrix, customer_index):\n",
    "    similarity_scores = customers_matrix[customer_index]\n",
    "    # Get indices of the top 3 most similar customers (excluding the customer itself)\n",
    "    similar_indices = np.argsort(-similarity_scores)[1:4]\n",
    "    return [(customer_ids[i], similarity_scores[i]) for i in similar_indices]"
   ]
  },
  {
   "cell_type": "code",
   "execution_count": 11,
   "metadata": {},
   "outputs": [],
   "source": [
    "# Create the Lookalike.csv for CustomerIDs C0001 to C0020\n",
    "lookalike_results = {}\n",
    "for i in range(20):  # First 20 customers (indices 0 to 19)\n",
    "    customer_id = customer_ids.iloc[i]\n",
    "    top_3 = get_top_3_similar(similarity_matrix, i)\n",
    "    lookalike_results[customer_id] = top_3"
   ]
  },
  {
   "cell_type": "code",
   "execution_count": 12,
   "metadata": {},
   "outputs": [],
   "source": [
    "# Convert results to DataFrame\n",
    "lookalike_df = pd.DataFrame({\n",
    "    \"CustomerID\": [k for k, v in lookalike_results.items() for _ in v],\n",
    "    \"SimilarCustomerID\": [sim[0] for v in lookalike_results.values() for sim in v],\n",
    "    \"SimilarityScore\": [sim[1] for v in lookalike_results.values() for sim in v]\n",
    "})"
   ]
  },
  {
   "cell_type": "code",
   "execution_count": 13,
   "metadata": {},
   "outputs": [],
   "source": [
    "# Save results to CSV\n",
    "lookalike_df.to_csv(\"FirstName_LastName_Lookalike.csv\", index=False)"
   ]
  },
  {
   "cell_type": "code",
   "execution_count": 14,
   "metadata": {},
   "outputs": [
    {
     "name": "stdout",
     "output_type": "stream",
     "text": [
      "Lookalike Recommendations for the First 20 Customers:\n",
      "   CustomerID SimilarCustomerID  SimilarityScore\n",
      "0       C0001             C0107         0.999837\n",
      "1       C0001             C0174         0.999508\n",
      "2       C0001             C0011         0.999469\n",
      "3       C0002             C0142         0.999222\n",
      "4       C0002             C0159         0.994031\n",
      "5       C0002             C0186         0.992423\n",
      "6       C0003             C0174         0.995462\n",
      "7       C0003             C0001         0.994702\n",
      "8       C0003             C0031         0.994469\n",
      "9       C0004             C0099         0.996398\n",
      "10      C0004             C0087         0.995150\n",
      "11      C0004             C0013         0.993646\n",
      "12      C0005             C0186         0.999737\n",
      "13      C0005             C0159         0.999593\n",
      "14      C0005             C0007         0.998621\n",
      "15      C0006             C0158         0.997079\n",
      "16      C0006             C0187         0.996405\n",
      "17      C0006             C0011         0.996040\n",
      "18      C0007             C0159         0.999120\n",
      "19      C0007             C0115         0.998977\n",
      "\n",
      "Lookalike recommendations saved as 'FirstName_LastName_Lookalike.csv'.\n"
     ]
    }
   ],
   "source": [
    "# Output Results\n",
    "\n",
    "\n",
    "print(\"Lookalike Recommendations for the First 20 Customers:\")\n",
    "print(lookalike_df.head(20))\n",
    "print(\"\\nLookalike recommendations saved as 'FirstName_LastName_Lookalike.csv'.\")"
   ]
  }
 ],
 "metadata": {
  "kernelspec": {
   "display_name": "Python 3",
   "language": "python",
   "name": "python3"
  },
  "language_info": {
   "codemirror_mode": {
    "name": "ipython",
    "version": 3
   },
   "file_extension": ".py",
   "mimetype": "text/x-python",
   "name": "python",
   "nbconvert_exporter": "python",
   "pygments_lexer": "ipython3",
   "version": "3.12.2"
  }
 },
 "nbformat": 4,
 "nbformat_minor": 2
}
